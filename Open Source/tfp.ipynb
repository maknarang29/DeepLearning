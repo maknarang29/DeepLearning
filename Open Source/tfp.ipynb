{
  "cells": [
    {
      "cell_type": "code",
      "execution_count": 1,
      "metadata": {
        "id": "2uuMGbyYBMQb"
      },
      "outputs": [
        {
          "name": "stderr",
          "output_type": "stream",
          "text": [
            "2023-04-14 09:38:29.819201: I tensorflow/tsl/cuda/cudart_stub.cc:28] Could not find cuda drivers on your machine, GPU will not be used.\n",
            "2023-04-14 09:38:29.900298: I tensorflow/tsl/cuda/cudart_stub.cc:28] Could not find cuda drivers on your machine, GPU will not be used.\n",
            "2023-04-14 09:38:29.901798: I tensorflow/core/platform/cpu_feature_guard.cc:182] This TensorFlow binary is optimized to use available CPU instructions in performance-critical operations.\n",
            "To enable the following instructions: AVX2 AVX512F FMA, in other operations, rebuild TensorFlow with the appropriate compiler flags.\n",
            "2023-04-14 09:38:31.514592: W tensorflow/compiler/tf2tensorrt/utils/py_utils.cc:38] TF-TRT Warning: Could not find TensorRT\n"
          ]
        }
      ],
      "source": [
        "import tensorflow.compat.v2 as tf\n",
        "import numpy as np\n",
        "\n",
        "from tensorflow_probability.python.internal import dtype_util\n",
        "from tensorflow_probability.python.distributions import distribution\n",
        "from tensorflow_probability.python.internal import parameter_properties\n",
        "from tensorflow_probability.python.internal import tensor_util\n",
        "from scipy import fft\n",
        "from math import pi"
      ]
    },
    {
      "cell_type": "code",
      "execution_count": 2,
      "metadata": {
        "colab": {
          "base_uri": "https://localhost:8080/"
        },
        "id": "wECaG9crBOwI",
        "outputId": "be2f12a6-5d02-4032-8d53-0d26327c0dfd"
      },
      "outputs": [
        {
          "name": "stdout",
          "output_type": "stream",
          "text": [
            "WARNING:tensorflow:From /home/codespace/.python/current/lib/python3.10/site-packages/tensorflow_probability/python/internal/batched_rejection_sampler.py:102: calling while_loop_v2 (from tensorflow.python.ops.control_flow_ops) with back_prop=False is deprecated and will be removed in a future version.\n",
            "Instructions for updating:\n",
            "back_prop=False is deprecated. Consider using tf.stop_gradient instead.\n",
            "Instead of:\n",
            "results = tf.while_loop(c, b, vars, back_prop=False)\n",
            "Use:\n",
            "results = tf.nest.map_structure(tf.stop_gradient, tf.while_loop(c, b, vars))\n"
          ]
        },
        {
          "name": "stderr",
          "output_type": "stream",
          "text": [
            "2023-04-14 09:38:33.762820: I tensorflow/core/common_runtime/executor.cc:1197] [/device:CPU:0] (DEBUG INFO) Executor start aborting (this does not indicate an error and you can ignore this message): INVALID_ARGUMENT: You must feed a value for placeholder tensor 'shape' with dtype int32 and shape [1]\n",
            "\t [[{{node shape}}]]\n",
            "2023-04-14 09:38:33.796774: I tensorflow/core/common_runtime/executor.cc:1197] [/device:CPU:0] (DEBUG INFO) Executor start aborting (this does not indicate an error and you can ignore this message): INVALID_ARGUMENT: You must feed a value for placeholder tensor 'binomial_noncpu/while/uniform/stateless_random_uniform/StatelessRandomUniformV2/binomial_noncpu/concat' with dtype int32 and shape [1]\n",
            "\t [[{{node binomial_noncpu/while/uniform/stateless_random_uniform/StatelessRandomUniformV2/binomial_noncpu/concat}}]]\n",
            "2023-04-14 09:38:33.796945: I tensorflow/core/common_runtime/executor.cc:1197] [/device:CPU:0] (DEBUG INFO) Executor start aborting (this does not indicate an error and you can ignore this message): INVALID_ARGUMENT: You must feed a value for placeholder tensor 'binomial_noncpu/while/uniform/stateless_random_uniform/StatelessRandomUniformV2/binomial_noncpu/concat' with dtype int32 and shape [1]\n",
            "\t [[{{node binomial_noncpu/while/uniform/stateless_random_uniform/StatelessRandomUniformV2/binomial_noncpu/concat}}]]\n",
            "2023-04-14 09:38:33.836494: I tensorflow/core/common_runtime/executor.cc:1197] [/device:CPU:0] (DEBUG INFO) Executor start aborting (this does not indicate an error and you can ignore this message): INVALID_ARGUMENT: You must feed a value for placeholder tensor 'shape' with dtype int32 and shape [1]\n",
            "\t [[{{node shape}}]]\n",
            "2023-04-14 09:38:33.841565: I tensorflow/core/common_runtime/executor.cc:1197] [/device:CPU:0] (DEBUG INFO) Executor start aborting (this does not indicate an error and you can ignore this message): INVALID_ARGUMENT: You must feed a value for placeholder tensor 'shape' with dtype int32 and shape [1]\n",
            "\t [[{{node shape}}]]\n",
            "2023-04-14 09:38:33.944364: I tensorflow/core/common_runtime/executor.cc:1197] [/device:CPU:0] (DEBUG INFO) Executor start aborting (this does not indicate an error and you can ignore this message): INVALID_ARGUMENT: You must feed a value for placeholder tensor 'binomial_noncpu/batched_las_vegas_algorithm/while/uniform/stateless_random_uniform/StatelessRandomUniformV2/binomial_noncpu/concat' with dtype int32 and shape [1]\n",
            "\t [[{{node binomial_noncpu/batched_las_vegas_algorithm/while/uniform/stateless_random_uniform/StatelessRandomUniformV2/binomial_noncpu/concat}}]]\n",
            "2023-04-14 09:38:33.944532: I tensorflow/core/common_runtime/executor.cc:1197] [/device:CPU:0] (DEBUG INFO) Executor start aborting (this does not indicate an error and you can ignore this message): INVALID_ARGUMENT: You must feed a value for placeholder tensor 'binomial_noncpu/batched_las_vegas_algorithm/while/uniform/stateless_random_uniform/StatelessRandomUniformV2/binomial_noncpu/concat' with dtype int32 and shape [1]\n",
            "\t [[{{node binomial_noncpu/batched_las_vegas_algorithm/while/uniform/stateless_random_uniform/StatelessRandomUniformV2/binomial_noncpu/concat}}]]\n",
            "2023-04-14 09:38:33.949667: I tensorflow/core/common_runtime/executor.cc:1197] [/device:CPU:0] (DEBUG INFO) Executor start aborting (this does not indicate an error and you can ignore this message): INVALID_ARGUMENT: You must feed a value for placeholder tensor 'binomial_noncpu/batched_las_vegas_algorithm/while/uniform/stateless_random_uniform/StatelessRandomUniformV2/binomial_noncpu/concat' with dtype int32 and shape [1]\n",
            "\t [[{{node binomial_noncpu/batched_las_vegas_algorithm/while/uniform/stateless_random_uniform/StatelessRandomUniformV2/binomial_noncpu/concat}}]]\n",
            "2023-04-14 09:38:33.949826: I tensorflow/core/common_runtime/executor.cc:1197] [/device:CPU:0] (DEBUG INFO) Executor start aborting (this does not indicate an error and you can ignore this message): INVALID_ARGUMENT: You must feed a value for placeholder tensor 'binomial_noncpu/batched_las_vegas_algorithm/while/uniform/stateless_random_uniform/StatelessRandomUniformV2/binomial_noncpu/concat' with dtype int32 and shape [1]\n",
            "\t [[{{node binomial_noncpu/batched_las_vegas_algorithm/while/uniform/stateless_random_uniform/StatelessRandomUniformV2/binomial_noncpu/concat}}]]\n",
            "2023-04-14 09:38:34.143234: I tensorflow/core/common_runtime/executor.cc:1197] [/device:CPU:0] (DEBUG INFO) Executor start aborting (this does not indicate an error and you can ignore this message): INVALID_ARGUMENT: You must feed a value for placeholder tensor 'shape' with dtype int32 and shape [1]\n",
            "\t [[{{node shape}}]]\n",
            "2023-04-14 09:38:34.155709: I tensorflow/core/common_runtime/executor.cc:1197] [/device:CPU:0] (DEBUG INFO) Executor start aborting (this does not indicate an error and you can ignore this message): INVALID_ARGUMENT: You must feed a value for placeholder tensor 'shape' with dtype int32 and shape [1]\n",
            "\t [[{{node shape}}]]\n"
          ]
        }
      ],
      "source": [
        "import tensorflow_probability as tfp\n",
        "i = [0.91343856, 0.03249955, 0.12706113]\n",
        "a = np.array(tfp.distributions.Binomial(total_count = 1,probs = i[2]).sample(1))[0]"
      ]
    },
    {
      "cell_type": "code",
      "execution_count": 3,
      "metadata": {
        "id": "an3PLzfZBjv1"
      },
      "outputs": [],
      "source": [
        "def samples_n(n,probs,seed=None):\n",
        "   res = np.zeros(n)\n",
        "   i = 0\n",
        "   for j in probs:\n",
        "    for i in range(n):\n",
        "        res[i] += np.array(tfp.distributions.Binomial(total_count = 1,probs = j).sample(1))[0]\n",
        "   return(res)"
      ]
    },
    {
      "cell_type": "code",
      "execution_count": null,
      "metadata": {
        "colab": {
          "base_uri": "https://localhost:8080/"
        },
        "id": "k7eUWDBGBlJI",
        "outputId": "fcd2e8bb-72a3-4c4b-bead-35a4fd17af6c"
      },
      "outputs": [
        {
          "data": {
            "text/plain": [
              "1.0"
            ]
          },
          "execution_count": 28,
          "metadata": {},
          "output_type": "execute_result"
        }
      ],
      "source": [
        "np.array(tfp.distributions.Binomial(total_count = 1,probs = i[0]).sample(1))[0]"
      ]
    },
    {
      "cell_type": "code",
      "execution_count": 4,
      "metadata": {
        "id": "4ElODYFxC9fH"
      },
      "outputs": [],
      "source": [
        "i = np.array(tfp.distributions.Uniform().sample(10))\n",
        "s = samples_n(10,i)"
      ]
    },
    {
      "cell_type": "code",
      "execution_count": 5,
      "metadata": {
        "id": "mfkOyExw-RGf"
      },
      "outputs": [],
      "source": [
        "k  = [0.14971250, 0.89603616, 0.46497399, 0.08322113, 0.10419799, 0.92368582, 0.47016735, 0.65425167, 0.89811465, 0.07596209]"
      ]
    },
    {
      "cell_type": "code",
      "execution_count": 6,
      "metadata": {
        "id": "QqP2tPFYDaCT"
      },
      "outputs": [],
      "source": [
        "samps = samples_n(10,k)"
      ]
    },
    {
      "cell_type": "markdown",
      "metadata": {
        "id": "gK8Ytg-ofSPU"
      },
      "source": [
        "## Roadmap\n",
        "### PMF \n",
        "\n",
        "1.   dpb_conv : PMF using Convolutions\n",
        "2.   dpb_dc : PMF using Direct Convolution\n",
        "3.   dpb_dftcf : PMF using DC-FFT\n",
        "\n",
        "### CDF \n",
        "\n",
        "1.   ppb_conv : CDF using Convolutions\n",
        "2.   ppb_dc : CDF using Direct Convolution\n",
        "3.   ppb_dftcf : CDF using DC-FFT\n",
        "\n",
        "\n",
        "### samples\n",
        "\n",
        "Generate Samples for the distribution\n",
        "\n",
        "\n"
      ]
    },
    {
      "cell_type": "code",
      "execution_count": 23,
      "metadata": {
        "colab": {
          "base_uri": "https://localhost:8080/"
        },
        "id": "hb1YwmyhE5Yk",
        "outputId": "2cb0057e-c69d-4390-d4e6-d19929762910"
      },
      "outputs": [
        {
          "data": {
            "text/plain": [
              "[0.1497125,\n",
              " 0.89603616,\n",
              " 0.46497399,\n",
              " 0.08322113,\n",
              " 0.10419799,\n",
              " 0.92368582,\n",
              " 0.47016735,\n",
              " 0.65425167,\n",
              " 0.89811465,\n",
              " 0.07596209]"
            ]
          },
          "execution_count": 23,
          "metadata": {},
          "output_type": "execute_result"
        }
      ],
      "source": [
        "k"
      ]
    },
    {
      "cell_type": "code",
      "execution_count": 22,
      "metadata": {
        "colab": {
          "base_uri": "https://localhost:8080/"
        },
        "id": "0JTsZmCv9HFQ",
        "outputId": "827b2de2-c32f-41c2-f019-91f4bc4a6f03"
      },
      "outputs": [
        {
          "data": {
            "text/plain": [
              "array([6., 5., 3., 3., 4., 4., 3., 4., 5., 4.])"
            ]
          },
          "execution_count": 22,
          "metadata": {},
          "output_type": "execute_result"
        }
      ],
      "source": [
        "samps"
      ]
    },
    {
      "cell_type": "code",
      "execution_count": 45,
      "metadata": {
        "colab": {
          "base_uri": "https://localhost:8080/"
        },
        "id": "MTvocfjqvnuv",
        "outputId": "ba788cea-7f16-4b06-d620-ed5e454a43d7"
      },
      "outputs": [
        {
          "data": {
            "text/plain": [
              "array([8.50287500e-01, 9.00113923e-06, 3.01317108e-04, 3.67681750e-03,\n",
              "       1.98512766e-02, 4.67064051e-02, 5.00952125e-02, 2.41270199e-02,\n",
              "       4.56909320e-03, 3.65872257e-04, 1.04846872e-05])"
            ]
          },
          "execution_count": 45,
          "metadata": {},
          "output_type": "execute_result"
        }
      ],
      "source": [
        "dpb_conv(samps,k)"
      ]
    },
    {
      "cell_type": "code",
      "execution_count": 38,
      "metadata": {
        "colab": {
          "base_uri": "https://localhost:8080/"
        },
        "id": "Y9qik1VfIYj8",
        "outputId": "0f347bac-267a-4605-a926-705f1ef6680b"
      },
      "outputs": [
        {
          "data": {
            "text/plain": [
              "numpy.float64"
            ]
          },
          "execution_count": 38,
          "metadata": {},
          "output_type": "execute_result"
        }
      ],
      "source": [
        "type(samps[0])"
      ]
    },
    {
      "cell_type": "code",
      "execution_count": 43,
      "metadata": {
        "id": "LiApnDF7Ia2K"
      },
      "outputs": [],
      "source": [
        "k = np.float64(k)"
      ]
    },
    {
      "cell_type": "code",
      "execution_count": 7,
      "metadata": {
        "id": "cKA1mZ7gtBS2"
      },
      "outputs": [],
      "source": [
        "def ppb_generic(pmf):\n",
        "  return np.cumsum(pmf)"
      ]
    },
    {
      "cell_type": "markdown",
      "metadata": {
        "id": "cEWrKrQovtbJ"
      },
      "source": [
        "## **Convolution** "
      ]
    },
    {
      "cell_type": "code",
      "execution_count": 10,
      "metadata": {
        "id": "0klP2vj6v0TM"
      },
      "outputs": [],
      "source": [
        "def dpb_conv(obs,probs):\n",
        "  size = len(probs)\n",
        "  res = np.zeros(size+1)\n",
        "  res[0] = 1-probs[0]\n",
        "  res[1] = probs[0]\n",
        "  for i in range(1,size):\n",
        "    if(probs[i]):\n",
        "      for j in range(i,-1,-1):\n",
        "        if (res[j]):\n",
        "          res[j+1] += res[j]*probs[i]\n",
        "          res[j] *= 1 - probs[i]\n",
        "  res /= np.sum(res)\n",
        "  return res"
      ]
    },
    {
      "cell_type": "code",
      "execution_count": 11,
      "metadata": {
        "id": "AYW0PqMxqldT"
      },
      "outputs": [],
      "source": [
        "def ppb_conv(obs,probs):\n",
        "  size = probs(len)\n",
        "  pmf = dpb_conv(obs,probs)\n",
        "  res = ppb_generic(pmf)\n",
        "  return (res)"
      ]
    },
    {
      "cell_type": "markdown",
      "metadata": {
        "id": "2IqN9S3-uGSg"
      },
      "source": [
        "## **Direct Conv**\n"
      ]
    },
    {
      "cell_type": "code",
      "execution_count": 14,
      "metadata": {
        "id": "IzbcWo8nuLx4"
      },
      "outputs": [],
      "source": [
        "def dpb_conv_2(obs, probs):\n",
        "    # number of input probabilities\n",
        "    size = len(probs)\n",
        "    \n",
        "    # results vector\n",
        "    results = np.zeros(size + 1)\n",
        "    results[0] = 1 - probs[0]\n",
        "    results[1] = probs[0]\n",
        "    \n",
        "    for i in range(1, size):\n",
        "        # check for user interrupt\n",
        "        # not available in Python\n",
        "        \n",
        "        if probs[i]:\n",
        "            for j in range(i, -1, -1):\n",
        "                if results[j]:\n",
        "                    results[j + 1] += results[j] * probs[i]\n",
        "                    results[j] *= 1 - probs[i]\n",
        "    \n",
        "    # make sure that probability masses sum up to 1\n",
        "    results /= np.sum(results)\n",
        "    \n",
        "    # return final results\n",
        "    return results"
      ]
    },
    {
      "cell_type": "code",
      "execution_count": 15,
      "metadata": {
        "colab": {
          "base_uri": "https://localhost:8080/"
        },
        "id": "Dn4W36BNcD-w",
        "outputId": "feba25aa-cfd7-44b4-ceba-9cd81ced2f50"
      },
      "outputs": [
        {
          "data": {
            "text/plain": [
              "array([5.11216911e-05, 1.72032231e-03, 2.11836881e-02, 1.16421527e-01,\n",
              "       2.85118856e-01, 3.31220611e-01, 1.87123874e-01, 5.00770430e-02,\n",
              "       6.64705333e-03, 4.25419713e-04, 1.04846872e-05])"
            ]
          },
          "execution_count": 15,
          "metadata": {},
          "output_type": "execute_result"
        }
      ],
      "source": [
        "dpb_conv_2(samps,k)"
      ]
    },
    {
      "cell_type": "code",
      "execution_count": 16,
      "metadata": {
        "colab": {
          "base_uri": "https://localhost:8080/"
        },
        "id": "6mpajt3ncQZ_",
        "outputId": "53b2cbea-378a-48d3-990c-0d584dfc6493"
      },
      "outputs": [
        {
          "data": {
            "text/plain": [
              "array([5.11216911e-05, 1.72032231e-03, 2.11836881e-02, 1.16421527e-01,\n",
              "       2.85118856e-01, 3.31220611e-01, 1.87123874e-01, 5.00770430e-02,\n",
              "       6.64705333e-03, 4.25419713e-04, 1.04846872e-05])"
            ]
          },
          "execution_count": 16,
          "metadata": {},
          "output_type": "execute_result"
        }
      ],
      "source": [
        "dpb_conv(samps,k)"
      ]
    },
    {
      "cell_type": "code",
      "execution_count": 3,
      "metadata": {
        "id": "kfP5IDVtcI8k"
      },
      "outputs": [
        {
          "name": "stdout",
          "output_type": "stream",
          "text": [
            "Collecting pyfftw\n",
            "  Downloading pyFFTW-0.13.1-cp310-cp310-manylinux_2_17_x86_64.manylinux2014_x86_64.whl (2.4 MB)\n",
            "\u001b[2K     \u001b[90m━━━━━━━━━━━━━━━━━━━━━━━━━━━━━━━━━━━━━━━━\u001b[0m \u001b[32m2.4/2.4 MB\u001b[0m \u001b[31m35.9 MB/s\u001b[0m eta \u001b[36m0:00:00\u001b[0m:00:01\u001b[0m\n",
            "\u001b[?25hRequirement already satisfied: numpy<2.0,>=1.20 in /usr/local/python/3.10.4/lib/python3.10/site-packages (from pyfftw) (1.23.5)\n",
            "Installing collected packages: pyfftw\n",
            "Successfully installed pyfftw-0.13.1\n"
          ]
        }
      ],
      "source": [
        "!pip install pyfftw"
      ]
    },
    {
      "cell_type": "code",
      "execution_count": 9,
      "metadata": {
        "id": "3QESC-MyFGau"
      },
      "outputs": [],
      "source": [
        "import pyfftw\n",
        "a = pyfftw.empty_aligned(2,dtype='float64')"
      ]
    },
    {
      "cell_type": "code",
      "execution_count": 11,
      "metadata": {},
      "outputs": [
        {
          "data": {
            "text/plain": [
              "array([0., 0.])"
            ]
          },
          "execution_count": 11,
          "metadata": {},
          "output_type": "execute_result"
        }
      ],
      "source": [
        "a.imag"
      ]
    },
    {
      "cell_type": "code",
      "execution_count": 8,
      "metadata": {
        "colab": {
          "base_uri": "https://localhost:8080/"
        },
        "id": "hBrUBR5LFWbI",
        "outputId": "7fd0fa9f-164a-42d9-efa2-683ee57aea3a"
      },
      "outputs": [
        {
          "data": {
            "text/plain": [
              "numpy.ndarray"
            ]
          },
          "execution_count": 8,
          "metadata": {},
          "output_type": "execute_result"
        }
      ],
      "source": [
        "type(pyfftw.zeros_aligned(3))"
      ]
    },
    {
      "cell_type": "code",
      "execution_count": 12,
      "metadata": {
        "id": "5kKWuMVeFXFl"
      },
      "outputs": [],
      "source": [
        "def fft_probs(probs_A, probs_B):\n",
        "    sizeA = len(probsA)\n",
        "    sizeB = len(probsB)\n",
        "    sizeRes = sizeA + sizeB -1\n",
        "\n",
        "    res = np.empty(sizeRes,dtype = 'float64')\n",
        "\n",
        "    probsA_fft = pyfftw.empty_aligned(sizeRes)\n",
        "    probsB_fft = pyfftw.empty_aligned(sizeRes)\n",
        "    result_fft = pyfftw.empty_aligned(sizeRes)\n",
        "\n",
        "    padded_probsA = pyfftw.zeros_aligned(sizeRes)\n",
        "    padded_probsA[:sizeA] = probs_A\n",
        "    fftw_planA = pyfftw(padded_probsA,probsA_fft,flags=('FFTW_ESTIMATE', 'FFTW_DESTROY_INPUT'))\n",
        "    fftw_planA.execute()\n",
        "\n",
        "    padded_probsB = pyfftw.zeros_aligned(sizeRes)\n",
        "    padded_probsB[:sizeB] = probs_B\n",
        "    fftw_planB = pyfftw(padded_probsB,probsB_fft,flags=('FFTW_ESTIMATE', 'FFTW_DESTROY_INPUT'))\n",
        "    fftw_planB.execute()\n",
        "\n",
        "    for i in range(sizeRes):\n",
        "        result_fft[i].real = (probsA_fft[i].real*probsB_fft[i].real - probsA_fft[i].imag*probsB_fft[i].imag)/sizeRes\n",
        "        result_fft[i].imag = (probsA_fft[i].real*probsB_fft[i].imag + probsA_fft[i].imag*probsB_fft[i].real)/sizeRes\n",
        "\n",
        "    planResult = pyfftw.FFTW(result_fft, res, direction='FFTW_BACKWARD', flags=('FFTW_ESTIMATE', 'FFTW_DESTROY_INPUT'))\n",
        "    planResult.execute()\n",
        "\n",
        "    return (res)\n",
        "\n",
        "\n",
        "\n",
        "\n",
        "   \n"
      ]
    },
    {
      "cell_type": "code",
      "execution_count": null,
      "metadata": {},
      "outputs": [],
      "source": []
    },
    {
      "cell_type": "code",
      "execution_count": null,
      "metadata": {},
      "outputs": [],
      "source": [
        "def dpb_dc(obs,probs):\n",
        "    size = len(probs)\n",
        "    num_splits = if size > 1950"
      ]
    }
  ],
  "metadata": {
    "colab": {
      "provenance": []
    },
    "kernelspec": {
      "display_name": "Python 3",
      "name": "python3"
    },
    "language_info": {
      "codemirror_mode": {
        "name": "ipython",
        "version": 3
      },
      "file_extension": ".py",
      "mimetype": "text/x-python",
      "name": "python",
      "nbconvert_exporter": "python",
      "pygments_lexer": "ipython3",
      "version": "3.10.4"
    }
  },
  "nbformat": 4,
  "nbformat_minor": 0
}
